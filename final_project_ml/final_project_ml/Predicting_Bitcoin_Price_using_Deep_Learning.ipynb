{
  "nbformat": 4,
  "nbformat_minor": 0,
  "metadata": {
    "colab": {
      "name": "Predicting_Bitcoin_Price_using_Deep_Learning.ipynb",
      "provenance": [],
      "collapsed_sections": []
    },
    "kernelspec": {
      "name": "python3",
      "display_name": "Python 3"
    },
    "language_info": {
      "name": "python"
    }
  },
  "cells": [
    {
      "cell_type": "code",
      "metadata": {
        "id": "L4THGF6DBJ25"
      },
      "source": [
        "import requests, pandas as pd, numpy as np, matplotlib.pyplot as plt\n",
        "\n",
        "from sklearn.preprocessing import MinMaxScaler\n",
        "from tensorflow.keras.layers import Dense, Dropout, LSTM\n",
        "from tensorflow.keras.models import Sequential"
      ],
      "execution_count": null,
      "outputs": []
    },
    {
      "cell_type": "code",
      "metadata": {
        "id": "k4isaEYjFzZH"
      },
      "source": [
        "api_key = '1688d4c2ff8442d9906cb0637a7d7fbc'\n",
        "symbol = 'BTC/USD'\n",
        "interval = '5min'\n",
        "order = 'asc'\n",
        "start_date = '2021-10-03 00:00:00'\n",
        "end_date = '2021-10-20 00:00:00'\n",
        "\n",
        "api_url = f'https://api.twelvedata.com/time_series?symbol={symbol}&start_date={start_date}&end_date={end_date}&interval={interval}&order={order}&apikey={api_key}'"
      ],
      "execution_count": null,
      "outputs": []
    },
    {
      "cell_type": "code",
      "metadata": {
        "colab": {
          "base_uri": "https://localhost:8080/",
          "height": 423
        },
        "id": "d9abcOZ7GdkP",
        "outputId": "269ddbe8-81e3-41d9-ea3a-0c6151764bed"
      },
      "source": [
        "data = requests.get(api_url).json()\n",
        "data_final = pd.DataFrame(data['values'])\n",
        "data_final"
      ],
      "execution_count": null,
      "outputs": [
        {
          "output_type": "execute_result",
          "data": {
            "text/plain": [
              "                 datetime         open         high          low        close\n",
              "0     2021-10-03 00:00:00  47657.69141  47812.28125  47651.53125  47812.28125\n",
              "1     2021-10-03 00:05:00  47814.57031  47832.17188  47721.78125  47744.39062\n",
              "2     2021-10-03 00:10:00  47736.80859  47757.73828  47697.87891  47727.98828\n",
              "3     2021-10-03 00:15:00  47729.85156  47790.03125  47671.51953  47692.07812\n",
              "4     2021-10-03 00:20:00  47696.42188  47800.28906  47696.42188  47745.17188\n",
              "...                   ...          ...          ...          ...          ...\n",
              "4880  2021-10-19 23:40:00  64426.26953  64465.21875  64366.05859  64453.55859\n",
              "4881  2021-10-19 23:45:00  64470.12891  64487.30859  64330.00000  64416.01172\n",
              "4882  2021-10-19 23:50:00  64437.71875  64437.71875  64230.64062  64243.85156\n",
              "4883  2021-10-19 23:55:00  64258.87891  64309.30859  64209.41016  64302.23047\n",
              "4884  2021-10-20 00:00:00  64300.01172  64381.44922  64235.94141  64257.17188\n",
              "\n",
              "[4885 rows x 5 columns]"
            ],
            "text/html": [
              "\n",
              "  <div id=\"df-a2645ca0-e434-4c06-893f-7fe0cfe77cb8\">\n",
              "    <div class=\"colab-df-container\">\n",
              "      <div>\n",
              "<style scoped>\n",
              "    .dataframe tbody tr th:only-of-type {\n",
              "        vertical-align: middle;\n",
              "    }\n",
              "\n",
              "    .dataframe tbody tr th {\n",
              "        vertical-align: top;\n",
              "    }\n",
              "\n",
              "    .dataframe thead th {\n",
              "        text-align: right;\n",
              "    }\n",
              "</style>\n",
              "<table border=\"1\" class=\"dataframe\">\n",
              "  <thead>\n",
              "    <tr style=\"text-align: right;\">\n",
              "      <th></th>\n",
              "      <th>datetime</th>\n",
              "      <th>open</th>\n",
              "      <th>high</th>\n",
              "      <th>low</th>\n",
              "      <th>close</th>\n",
              "    </tr>\n",
              "  </thead>\n",
              "  <tbody>\n",
              "    <tr>\n",
              "      <th>0</th>\n",
              "      <td>2021-10-03 00:00:00</td>\n",
              "      <td>47657.69141</td>\n",
              "      <td>47812.28125</td>\n",
              "      <td>47651.53125</td>\n",
              "      <td>47812.28125</td>\n",
              "    </tr>\n",
              "    <tr>\n",
              "      <th>1</th>\n",
              "      <td>2021-10-03 00:05:00</td>\n",
              "      <td>47814.57031</td>\n",
              "      <td>47832.17188</td>\n",
              "      <td>47721.78125</td>\n",
              "      <td>47744.39062</td>\n",
              "    </tr>\n",
              "    <tr>\n",
              "      <th>2</th>\n",
              "      <td>2021-10-03 00:10:00</td>\n",
              "      <td>47736.80859</td>\n",
              "      <td>47757.73828</td>\n",
              "      <td>47697.87891</td>\n",
              "      <td>47727.98828</td>\n",
              "    </tr>\n",
              "    <tr>\n",
              "      <th>3</th>\n",
              "      <td>2021-10-03 00:15:00</td>\n",
              "      <td>47729.85156</td>\n",
              "      <td>47790.03125</td>\n",
              "      <td>47671.51953</td>\n",
              "      <td>47692.07812</td>\n",
              "    </tr>\n",
              "    <tr>\n",
              "      <th>4</th>\n",
              "      <td>2021-10-03 00:20:00</td>\n",
              "      <td>47696.42188</td>\n",
              "      <td>47800.28906</td>\n",
              "      <td>47696.42188</td>\n",
              "      <td>47745.17188</td>\n",
              "    </tr>\n",
              "    <tr>\n",
              "      <th>...</th>\n",
              "      <td>...</td>\n",
              "      <td>...</td>\n",
              "      <td>...</td>\n",
              "      <td>...</td>\n",
              "      <td>...</td>\n",
              "    </tr>\n",
              "    <tr>\n",
              "      <th>4880</th>\n",
              "      <td>2021-10-19 23:40:00</td>\n",
              "      <td>64426.26953</td>\n",
              "      <td>64465.21875</td>\n",
              "      <td>64366.05859</td>\n",
              "      <td>64453.55859</td>\n",
              "    </tr>\n",
              "    <tr>\n",
              "      <th>4881</th>\n",
              "      <td>2021-10-19 23:45:00</td>\n",
              "      <td>64470.12891</td>\n",
              "      <td>64487.30859</td>\n",
              "      <td>64330.00000</td>\n",
              "      <td>64416.01172</td>\n",
              "    </tr>\n",
              "    <tr>\n",
              "      <th>4882</th>\n",
              "      <td>2021-10-19 23:50:00</td>\n",
              "      <td>64437.71875</td>\n",
              "      <td>64437.71875</td>\n",
              "      <td>64230.64062</td>\n",
              "      <td>64243.85156</td>\n",
              "    </tr>\n",
              "    <tr>\n",
              "      <th>4883</th>\n",
              "      <td>2021-10-19 23:55:00</td>\n",
              "      <td>64258.87891</td>\n",
              "      <td>64309.30859</td>\n",
              "      <td>64209.41016</td>\n",
              "      <td>64302.23047</td>\n",
              "    </tr>\n",
              "    <tr>\n",
              "      <th>4884</th>\n",
              "      <td>2021-10-20 00:00:00</td>\n",
              "      <td>64300.01172</td>\n",
              "      <td>64381.44922</td>\n",
              "      <td>64235.94141</td>\n",
              "      <td>64257.17188</td>\n",
              "    </tr>\n",
              "  </tbody>\n",
              "</table>\n",
              "<p>4885 rows × 5 columns</p>\n",
              "</div>\n",
              "      <button class=\"colab-df-convert\" onclick=\"convertToInteractive('df-a2645ca0-e434-4c06-893f-7fe0cfe77cb8')\"\n",
              "              title=\"Convert this dataframe to an interactive table.\"\n",
              "              style=\"display:none;\">\n",
              "        \n",
              "  <svg xmlns=\"http://www.w3.org/2000/svg\" height=\"24px\"viewBox=\"0 0 24 24\"\n",
              "       width=\"24px\">\n",
              "    <path d=\"M0 0h24v24H0V0z\" fill=\"none\"/>\n",
              "    <path d=\"M18.56 5.44l.94 2.06.94-2.06 2.06-.94-2.06-.94-.94-2.06-.94 2.06-2.06.94zm-11 1L8.5 8.5l.94-2.06 2.06-.94-2.06-.94L8.5 2.5l-.94 2.06-2.06.94zm10 10l.94 2.06.94-2.06 2.06-.94-2.06-.94-.94-2.06-.94 2.06-2.06.94z\"/><path d=\"M17.41 7.96l-1.37-1.37c-.4-.4-.92-.59-1.43-.59-.52 0-1.04.2-1.43.59L10.3 9.45l-7.72 7.72c-.78.78-.78 2.05 0 2.83L4 21.41c.39.39.9.59 1.41.59.51 0 1.02-.2 1.41-.59l7.78-7.78 2.81-2.81c.8-.78.8-2.07 0-2.86zM5.41 20L4 18.59l7.72-7.72 1.47 1.35L5.41 20z\"/>\n",
              "  </svg>\n",
              "      </button>\n",
              "      \n",
              "  <style>\n",
              "    .colab-df-container {\n",
              "      display:flex;\n",
              "      flex-wrap:wrap;\n",
              "      gap: 12px;\n",
              "    }\n",
              "\n",
              "    .colab-df-convert {\n",
              "      background-color: #E8F0FE;\n",
              "      border: none;\n",
              "      border-radius: 50%;\n",
              "      cursor: pointer;\n",
              "      display: none;\n",
              "      fill: #1967D2;\n",
              "      height: 32px;\n",
              "      padding: 0 0 0 0;\n",
              "      width: 32px;\n",
              "    }\n",
              "\n",
              "    .colab-df-convert:hover {\n",
              "      background-color: #E2EBFA;\n",
              "      box-shadow: 0px 1px 2px rgba(60, 64, 67, 0.3), 0px 1px 3px 1px rgba(60, 64, 67, 0.15);\n",
              "      fill: #174EA6;\n",
              "    }\n",
              "\n",
              "    [theme=dark] .colab-df-convert {\n",
              "      background-color: #3B4455;\n",
              "      fill: #D2E3FC;\n",
              "    }\n",
              "\n",
              "    [theme=dark] .colab-df-convert:hover {\n",
              "      background-color: #434B5C;\n",
              "      box-shadow: 0px 1px 3px 1px rgba(0, 0, 0, 0.15);\n",
              "      filter: drop-shadow(0px 1px 2px rgba(0, 0, 0, 0.3));\n",
              "      fill: #FFFFFF;\n",
              "    }\n",
              "  </style>\n",
              "\n",
              "      <script>\n",
              "        const buttonEl =\n",
              "          document.querySelector('#df-a2645ca0-e434-4c06-893f-7fe0cfe77cb8 button.colab-df-convert');\n",
              "        buttonEl.style.display =\n",
              "          google.colab.kernel.accessAllowed ? 'block' : 'none';\n",
              "\n",
              "        async function convertToInteractive(key) {\n",
              "          const element = document.querySelector('#df-a2645ca0-e434-4c06-893f-7fe0cfe77cb8');\n",
              "          const dataTable =\n",
              "            await google.colab.kernel.invokeFunction('convertToInteractive',\n",
              "                                                     [key], {});\n",
              "          if (!dataTable) return;\n",
              "\n",
              "          const docLinkHtml = 'Like what you see? Visit the ' +\n",
              "            '<a target=\"_blank\" href=https://colab.research.google.com/notebooks/data_table.ipynb>data table notebook</a>'\n",
              "            + ' to learn more about interactive tables.';\n",
              "          element.innerHTML = '';\n",
              "          dataTable['output_type'] = 'display_data';\n",
              "          await google.colab.output.renderOutput(dataTable, element);\n",
              "          const docLink = document.createElement('div');\n",
              "          docLink.innerHTML = docLinkHtml;\n",
              "          element.appendChild(docLink);\n",
              "        }\n",
              "      </script>\n",
              "    </div>\n",
              "  </div>\n",
              "  "
            ]
          },
          "metadata": {},
          "execution_count": 41
        }
      ]
    },
    {
      "cell_type": "code",
      "source": [
        "df= data_final.drop(['datetime'],axis=1)\n",
        "df.head()"
      ],
      "metadata": {
        "colab": {
          "base_uri": "https://localhost:8080/",
          "height": 206
        },
        "id": "MTfqLZlbZTg9",
        "outputId": "7159e902-a23d-4a83-a866-746aa5e68374"
      },
      "execution_count": null,
      "outputs": [
        {
          "output_type": "execute_result",
          "data": {
            "text/plain": [
              "          open         high          low        close\n",
              "0  47657.69141  47812.28125  47651.53125  47812.28125\n",
              "1  47814.57031  47832.17188  47721.78125  47744.39062\n",
              "2  47736.80859  47757.73828  47697.87891  47727.98828\n",
              "3  47729.85156  47790.03125  47671.51953  47692.07812\n",
              "4  47696.42188  47800.28906  47696.42188  47745.17188"
            ],
            "text/html": [
              "\n",
              "  <div id=\"df-6721b558-87ce-4df9-a378-bc21817cddbc\">\n",
              "    <div class=\"colab-df-container\">\n",
              "      <div>\n",
              "<style scoped>\n",
              "    .dataframe tbody tr th:only-of-type {\n",
              "        vertical-align: middle;\n",
              "    }\n",
              "\n",
              "    .dataframe tbody tr th {\n",
              "        vertical-align: top;\n",
              "    }\n",
              "\n",
              "    .dataframe thead th {\n",
              "        text-align: right;\n",
              "    }\n",
              "</style>\n",
              "<table border=\"1\" class=\"dataframe\">\n",
              "  <thead>\n",
              "    <tr style=\"text-align: right;\">\n",
              "      <th></th>\n",
              "      <th>open</th>\n",
              "      <th>high</th>\n",
              "      <th>low</th>\n",
              "      <th>close</th>\n",
              "    </tr>\n",
              "  </thead>\n",
              "  <tbody>\n",
              "    <tr>\n",
              "      <th>0</th>\n",
              "      <td>47657.69141</td>\n",
              "      <td>47812.28125</td>\n",
              "      <td>47651.53125</td>\n",
              "      <td>47812.28125</td>\n",
              "    </tr>\n",
              "    <tr>\n",
              "      <th>1</th>\n",
              "      <td>47814.57031</td>\n",
              "      <td>47832.17188</td>\n",
              "      <td>47721.78125</td>\n",
              "      <td>47744.39062</td>\n",
              "    </tr>\n",
              "    <tr>\n",
              "      <th>2</th>\n",
              "      <td>47736.80859</td>\n",
              "      <td>47757.73828</td>\n",
              "      <td>47697.87891</td>\n",
              "      <td>47727.98828</td>\n",
              "    </tr>\n",
              "    <tr>\n",
              "      <th>3</th>\n",
              "      <td>47729.85156</td>\n",
              "      <td>47790.03125</td>\n",
              "      <td>47671.51953</td>\n",
              "      <td>47692.07812</td>\n",
              "    </tr>\n",
              "    <tr>\n",
              "      <th>4</th>\n",
              "      <td>47696.42188</td>\n",
              "      <td>47800.28906</td>\n",
              "      <td>47696.42188</td>\n",
              "      <td>47745.17188</td>\n",
              "    </tr>\n",
              "  </tbody>\n",
              "</table>\n",
              "</div>\n",
              "      <button class=\"colab-df-convert\" onclick=\"convertToInteractive('df-6721b558-87ce-4df9-a378-bc21817cddbc')\"\n",
              "              title=\"Convert this dataframe to an interactive table.\"\n",
              "              style=\"display:none;\">\n",
              "        \n",
              "  <svg xmlns=\"http://www.w3.org/2000/svg\" height=\"24px\"viewBox=\"0 0 24 24\"\n",
              "       width=\"24px\">\n",
              "    <path d=\"M0 0h24v24H0V0z\" fill=\"none\"/>\n",
              "    <path d=\"M18.56 5.44l.94 2.06.94-2.06 2.06-.94-2.06-.94-.94-2.06-.94 2.06-2.06.94zm-11 1L8.5 8.5l.94-2.06 2.06-.94-2.06-.94L8.5 2.5l-.94 2.06-2.06.94zm10 10l.94 2.06.94-2.06 2.06-.94-2.06-.94-.94-2.06-.94 2.06-2.06.94z\"/><path d=\"M17.41 7.96l-1.37-1.37c-.4-.4-.92-.59-1.43-.59-.52 0-1.04.2-1.43.59L10.3 9.45l-7.72 7.72c-.78.78-.78 2.05 0 2.83L4 21.41c.39.39.9.59 1.41.59.51 0 1.02-.2 1.41-.59l7.78-7.78 2.81-2.81c.8-.78.8-2.07 0-2.86zM5.41 20L4 18.59l7.72-7.72 1.47 1.35L5.41 20z\"/>\n",
              "  </svg>\n",
              "      </button>\n",
              "      \n",
              "  <style>\n",
              "    .colab-df-container {\n",
              "      display:flex;\n",
              "      flex-wrap:wrap;\n",
              "      gap: 12px;\n",
              "    }\n",
              "\n",
              "    .colab-df-convert {\n",
              "      background-color: #E8F0FE;\n",
              "      border: none;\n",
              "      border-radius: 50%;\n",
              "      cursor: pointer;\n",
              "      display: none;\n",
              "      fill: #1967D2;\n",
              "      height: 32px;\n",
              "      padding: 0 0 0 0;\n",
              "      width: 32px;\n",
              "    }\n",
              "\n",
              "    .colab-df-convert:hover {\n",
              "      background-color: #E2EBFA;\n",
              "      box-shadow: 0px 1px 2px rgba(60, 64, 67, 0.3), 0px 1px 3px 1px rgba(60, 64, 67, 0.15);\n",
              "      fill: #174EA6;\n",
              "    }\n",
              "\n",
              "    [theme=dark] .colab-df-convert {\n",
              "      background-color: #3B4455;\n",
              "      fill: #D2E3FC;\n",
              "    }\n",
              "\n",
              "    [theme=dark] .colab-df-convert:hover {\n",
              "      background-color: #434B5C;\n",
              "      box-shadow: 0px 1px 3px 1px rgba(0, 0, 0, 0.15);\n",
              "      filter: drop-shadow(0px 1px 2px rgba(0, 0, 0, 0.3));\n",
              "      fill: #FFFFFF;\n",
              "    }\n",
              "  </style>\n",
              "\n",
              "      <script>\n",
              "        const buttonEl =\n",
              "          document.querySelector('#df-6721b558-87ce-4df9-a378-bc21817cddbc button.colab-df-convert');\n",
              "        buttonEl.style.display =\n",
              "          google.colab.kernel.accessAllowed ? 'block' : 'none';\n",
              "\n",
              "        async function convertToInteractive(key) {\n",
              "          const element = document.querySelector('#df-6721b558-87ce-4df9-a378-bc21817cddbc');\n",
              "          const dataTable =\n",
              "            await google.colab.kernel.invokeFunction('convertToInteractive',\n",
              "                                                     [key], {});\n",
              "          if (!dataTable) return;\n",
              "\n",
              "          const docLinkHtml = 'Like what you see? Visit the ' +\n",
              "            '<a target=\"_blank\" href=https://colab.research.google.com/notebooks/data_table.ipynb>data table notebook</a>'\n",
              "            + ' to learn more about interactive tables.';\n",
              "          element.innerHTML = '';\n",
              "          dataTable['output_type'] = 'display_data';\n",
              "          await google.colab.output.renderOutput(dataTable, element);\n",
              "          const docLink = document.createElement('div');\n",
              "          docLink.innerHTML = docLinkHtml;\n",
              "          element.appendChild(docLink);\n",
              "        }\n",
              "      </script>\n",
              "    </div>\n",
              "  </div>\n",
              "  "
            ]
          },
          "metadata": {},
          "execution_count": 42
        }
      ]
    },
    {
      "cell_type": "code",
      "source": [
        "ma50=df.close.rolling(50).mean()\n",
        "ma200=df.close.rolling(200).mean()\n",
        "#ma100"
      ],
      "metadata": {
        "id": "zjZxFhF9cFZo"
      },
      "execution_count": null,
      "outputs": []
    },
    {
      "cell_type": "code",
      "source": [
        "b_p = pd.to_numeric(df['close'], errors = 'coerce').values\n",
        "dma50_p = pd.to_numeric(ma50, errors = 'coerce').values\n",
        "dma200_p = pd.to_numeric(ma200, errors = 'coerce').values"
      ],
      "metadata": {
        "id": "we1qlq4_a-vS"
      },
      "execution_count": null,
      "outputs": []
    },
    {
      "cell_type": "code",
      "source": [
        "plt.figure(figsize=(15,9))\n",
        "plt.plot(b_p, label='Bitcoin Price')\n",
        "plt.plot(dma50_p, label='50 DMA')\n",
        "plt.plot(dma200_p, label='200 DMA')\n",
        "plt.title('Bitcoin Price Chart between '+start_date+' and '+end_date)\n",
        "plt.legend()\n",
        "plt.show()"
      ],
      "metadata": {
        "colab": {
          "base_uri": "https://localhost:8080/",
          "height": 553
        },
        "id": "CwsFroi3dANG",
        "outputId": "2e4173c8-6c00-4700-d4ba-7b0a46fcacf9"
      },
      "execution_count": null,
      "outputs": [
        {
          "output_type": "display_data",
          "data": {
            "text/plain": [
              "<Figure size 1080x648 with 1 Axes>"
            ],
            "image/png": "[encoded data removed]"
          },
          "metadata": {
            "needs_background": "light"
          }
        }
      ]
    },
    {
      "cell_type": "code",
      "metadata": {
        "id": "2HKDCdloGxSn"
      },
      "source": [
        "scaler = MinMaxScaler(feature_range=(0,1))\n",
        "scaled_data = scaler.fit_transform(data_final['close'].values.reshape(-1,1))"
      ],
      "execution_count": null,
      "outputs": []
    },
    {
      "cell_type": "code",
      "metadata": {
        "id": "vnXPTubMG2U0"
      },
      "source": [
        "time_intervals_to_train = 24\n",
        "prediction_interval = 12\n",
        "\n",
        "x_train = []\n",
        "y_train = []"
      ],
      "execution_count": null,
      "outputs": []
    },
    {
      "cell_type": "code",
      "metadata": {
        "id": "2za65OIfHg3C"
      },
      "source": [
        "for i in range(time_intervals_to_train, len(scaled_data) - prediction_interval):\n",
        "  x_train.append(scaled_data[i - time_intervals_to_train: i, 0])\n",
        "  y_train.append(scaled_data[i + prediction_interval, 0])\n",
        "\n",
        "x_train = np.array(x_train)\n",
        "y_train = np.array(y_train)"
      ],
      "execution_count": null,
      "outputs": []
    },
    {
      "cell_type": "code",
      "metadata": {
        "id": "PEBnvmemKA0P"
      },
      "source": [
        "x_train = np.reshape(x_train, (x_train.shape[0], x_train.shape[1], 1))"
      ],
      "execution_count": null,
      "outputs": []
    },
    {
      "cell_type": "code",
      "metadata": {
        "colab": {
          "base_uri": "https://localhost:8080/"
        },
        "id": "S5qZEFIOLgr_",
        "outputId": "00231430-1475-485a-b46c-b95b59569a68"
      },
      "source": [
        "x_train.shape"
      ],
      "execution_count": null,
      "outputs": [
        {
          "output_type": "execute_result",
          "data": {
            "text/plain": [
              "(4849, 24, 1)"
            ]
          },
          "metadata": {},
          "execution_count": 50
        }
      ]
    },
    {
      "cell_type": "code",
      "metadata": {
        "id": "V-kH1pJVKCAi"
      },
      "source": [
        "model = Sequential()\n",
        "\n",
        "model.add(LSTM(128, return_sequences= True, input_shape = (x_train.shape[1], 1), activation = 'relu'))\n",
        "model.add(Dropout(0.4))\n",
        "model.add(LSTM(64, return_sequences= True, activation = 'relu'))\n",
        "model.add(Dropout(0.3))\n",
        "model.add(LSTM(32, activation= 'relu'))\n",
        "model.add(Dropout(0.2))\n",
        "model.add(Dense(1, activation = 'sigmoid'))"
      ],
      "execution_count": null,
      "outputs": []
    },
    {
      "cell_type": "code",
      "source": [
        "model.summary()"
      ],
      "metadata": {
        "colab": {
          "base_uri": "https://localhost:8080/"
        },
        "id": "l-9WnSTcuBZo",
        "outputId": "e0197cb4-e159-4468-8d53-72c7de86c3c2"
      },
      "execution_count": null,
      "outputs": [
        {
          "output_type": "stream",
          "name": "stdout",
          "text": [
            "Model: \"sequential_1\"\n",
            "_________________________________________________________________\n",
            " Layer (type)                Output Shape              Param #   \n",
            "=================================================================\n",
            " lstm_3 (LSTM)               (None, 24, 128)           66560     \n",
            "                                                                 \n",
            " dropout_3 (Dropout)         (None, 24, 128)           0         \n",
            "                                                                 \n",
            " lstm_4 (LSTM)               (None, 24, 64)            49408     \n",
            "                                                                 \n",
            " dropout_4 (Dropout)         (None, 24, 64)            0         \n",
            "                                                                 \n",
            " lstm_5 (LSTM)               (None, 32)                12416     \n",
            "                                                                 \n",
            " dropout_5 (Dropout)         (None, 32)                0         \n",
            "                                                                 \n",
            " dense_1 (Dense)             (None, 1)                 33        \n",
            "                                                                 \n",
            "=================================================================\n",
            "Total params: 128,417\n",
            "Trainable params: 128,417\n",
            "Non-trainable params: 0\n",
            "_________________________________________________________________\n"
          ]
        }
      ]
    },
    {
      "cell_type": "code",
      "metadata": {
        "id": "Bz0lZNNtKXNd"
      },
      "source": [
        "model.compile(loss = 'mean_squared_error', optimizer= 'adam', metrics= ['accuracy'])"
      ],
      "execution_count": null,
      "outputs": []
    },
    {
      "cell_type": "markdown",
      "source": [
        "      there are other type of losses like catagorical cross entropy, binary cross entropy, used for classification purpose\n",
        "      for **time series analysis** we are using mean squared error for loss"
      ],
      "metadata": {
        "id": "F7Hr2aIgvCUm"
      }
    },
    {
      "cell_type": "code",
      "metadata": {
        "colab": {
          "base_uri": "https://localhost:8080/"
        },
        "id": "U8-Ao2WLM7fR",
        "outputId": "28f3e1d8-b8ce-43ff-ebd5-6342be8dd5f2"
      },
      "source": [
        "model.fit(x_train, y_train, epochs=10, batch_size= 64)"
      ],
      "execution_count": null,
      "outputs": [
        {
          "output_type": "stream",
          "name": "stdout",
          "text": [
            "Epoch 1/10\n",
            "76/76 [==============================] - 11s 89ms/step - loss: 0.0258 - accuracy: 2.0623e-04\n",
            "Epoch 2/10\n",
            "76/76 [==============================] - 7s 89ms/step - loss: 0.0021 - accuracy: 4.1246e-04\n",
            "Epoch 3/10\n",
            "76/76 [==============================] - 7s 90ms/step - loss: 0.0017 - accuracy: 4.1246e-04\n",
            "Epoch 4/10\n",
            "76/76 [==============================] - 7s 89ms/step - loss: 0.0018 - accuracy: 4.1246e-04\n",
            "Epoch 5/10\n",
            "76/76 [==============================] - 7s 89ms/step - loss: 0.0016 - accuracy: 4.1246e-04\n",
            "Epoch 6/10\n",
            "76/76 [==============================] - 7s 90ms/step - loss: 0.0016 - accuracy: 4.1246e-04\n",
            "Epoch 7/10\n",
            "76/76 [==============================] - 7s 89ms/step - loss: 0.0016 - accuracy: 4.1246e-04\n",
            "Epoch 8/10\n",
            "76/76 [==============================] - 7s 90ms/step - loss: 0.0015 - accuracy: 4.1246e-04\n",
            "Epoch 9/10\n",
            "76/76 [==============================] - 7s 88ms/step - loss: 0.0015 - accuracy: 4.1246e-04\n",
            "Epoch 10/10\n",
            "76/76 [==============================] - 7s 93ms/step - loss: 0.0014 - accuracy: 4.1246e-04\n"
          ]
        },
        {
          "output_type": "execute_result",
          "data": {
            "text/plain": [
              "<keras.callbacks.History at 0x7faa10e92410>"
            ]
          },
          "metadata": {},
          "execution_count": 54
        }
      ]
    },
    {
      "cell_type": "code",
      "source": [
        "#for saving the trained model to be used further in streamlit\n",
        "\n",
        "# model.save('bitcoin_deep_learning.h5')"
      ],
      "metadata": {
        "id": "df6yeyuw5dNN"
      },
      "execution_count": null,
      "outputs": []
    },
    {
      "cell_type": "code",
      "metadata": {
        "colab": {
          "base_uri": "https://localhost:8080/",
          "height": 423
        },
        "id": "Ekg_z9TXNISf",
        "outputId": "4138e8f2-cdee-413c-a306-192db4f6ce06"
      },
      "source": [
        "test_start = '2021-10-20 00:00:00'\n",
        "test_end = '2021-10-23 00:00:00'\n",
        "\n",
        "test_api_url = f'https://api.twelvedata.com/time_series?symbol={symbol}&start_date={test_start}&end_date={test_end}&interval={interval}&order={order}&apikey={api_key}'\n",
        "test_data = requests.get(test_api_url).json()\n",
        "test_data_final = pd.DataFrame(test_data['values'])\n",
        "test_data_final"
      ],
      "execution_count": null,
      "outputs": [
        {
          "output_type": "execute_result",
          "data": {
            "text/plain": [
              "                datetime         open         high          low        close\n",
              "0    2021-10-20 00:00:00  64300.01172  64381.44922  64235.94141  64257.17188\n",
              "1    2021-10-20 00:05:00  64255.21875  64265.83984  64099.76953  64134.44922\n",
              "2    2021-10-20 00:10:00  64133.71875  64207.78125  64133.71875  64177.23047\n",
              "3    2021-10-20 00:15:00  64185.44922  64232.28906  64119.21875  64137.94141\n",
              "4    2021-10-20 00:20:00  64137.69922  64166.08984  64083.42188  64083.42188\n",
              "..                   ...          ...          ...          ...          ...\n",
              "850  2021-10-22 23:40:00  60831.53906  60843.91016  60750.00000  60754.03906\n",
              "851  2021-10-22 23:45:00  60754.98828  60796.92188  60720.00000  60720.50000\n",
              "852  2021-10-22 23:50:00  60720.01172  60729.32031  60690.42969  60710.87891\n",
              "853  2021-10-22 23:55:00  60717.87891  60720.78906  60680.14062  60696.71875\n",
              "854  2021-10-23 00:00:00  60687.64062  60761.42969  60561.12109  60576.00000\n",
              "\n",
              "[855 rows x 5 columns]"
            ],
            "text/html": [
              "\n",
              "  <div id=\"df-f66b1dd4-bf00-44e9-ab8d-58206ad8117b\">\n",
              "    <div class=\"colab-df-container\">\n",
              "      <div>\n",
              "<style scoped>\n",
              "    .dataframe tbody tr th:only-of-type {\n",
              "        vertical-align: middle;\n",
              "    }\n",
              "\n",
              "    .dataframe tbody tr th {\n",
              "        vertical-align: top;\n",
              "    }\n",
              "\n",
              "    .dataframe thead th {\n",
              "        text-align: right;\n",
              "    }\n",
              "</style>\n",
              "<table border=\"1\" class=\"dataframe\">\n",
              "  <thead>\n",
              "    <tr style=\"text-align: right;\">\n",
              "      <th></th>\n",
              "      <th>datetime</th>\n",
              "      <th>open</th>\n",
              "      <th>high</th>\n",
              "      <th>low</th>\n",
              "      <th>close</th>\n",
              "    </tr>\n",
              "  </thead>\n",
              "  <tbody>\n",
              "    <tr>\n",
              "      <th>0</th>\n",
              "      <td>2021-10-20 00:00:00</td>\n",
              "      <td>64300.01172</td>\n",
              "      <td>64381.44922</td>\n",
              "      <td>64235.94141</td>\n",
              "      <td>64257.17188</td>\n",
              "    </tr>\n",
              "    <tr>\n",
              "      <th>1</th>\n",
              "      <td>2021-10-20 00:05:00</td>\n",
              "      <td>64255.21875</td>\n",
              "      <td>64265.83984</td>\n",
              "      <td>64099.76953</td>\n",
              "      <td>64134.44922</td>\n",
              "    </tr>\n",
              "    <tr>\n",
              "      <th>2</th>\n",
              "      <td>2021-10-20 00:10:00</td>\n",
              "      <td>64133.71875</td>\n",
              "      <td>64207.78125</td>\n",
              "      <td>64133.71875</td>\n",
              "      <td>64177.23047</td>\n",
              "    </tr>\n",
              "    <tr>\n",
              "      <th>3</th>\n",
              "      <td>2021-10-20 00:15:00</td>\n",
              "      <td>64185.44922</td>\n",
              "      <td>64232.28906</td>\n",
              "      <td>64119.21875</td>\n",
              "      <td>64137.94141</td>\n",
              "    </tr>\n",
              "    <tr>\n",
              "      <th>4</th>\n",
              "      <td>2021-10-20 00:20:00</td>\n",
              "      <td>64137.69922</td>\n",
              "      <td>64166.08984</td>\n",
              "      <td>64083.42188</td>\n",
              "      <td>64083.42188</td>\n",
              "    </tr>\n",
              "    <tr>\n",
              "      <th>...</th>\n",
              "      <td>...</td>\n",
              "      <td>...</td>\n",
              "      <td>...</td>\n",
              "      <td>...</td>\n",
              "      <td>...</td>\n",
              "    </tr>\n",
              "    <tr>\n",
              "      <th>850</th>\n",
              "      <td>2021-10-22 23:40:00</td>\n",
              "      <td>60831.53906</td>\n",
              "      <td>60843.91016</td>\n",
              "      <td>60750.00000</td>\n",
              "      <td>60754.03906</td>\n",
              "    </tr>\n",
              "    <tr>\n",
              "      <th>851</th>\n",
              "      <td>2021-10-22 23:45:00</td>\n",
              "      <td>60754.98828</td>\n",
              "      <td>60796.92188</td>\n",
              "      <td>60720.00000</td>\n",
              "      <td>60720.50000</td>\n",
              "    </tr>\n",
              "    <tr>\n",
              "      <th>852</th>\n",
              "      <td>2021-10-22 23:50:00</td>\n",
              "      <td>60720.01172</td>\n",
              "      <td>60729.32031</td>\n",
              "      <td>60690.42969</td>\n",
              "      <td>60710.87891</td>\n",
              "    </tr>\n",
              "    <tr>\n",
              "      <th>853</th>\n",
              "      <td>2021-10-22 23:55:00</td>\n",
              "      <td>60717.87891</td>\n",
              "      <td>60720.78906</td>\n",
              "      <td>60680.14062</td>\n",
              "      <td>60696.71875</td>\n",
              "    </tr>\n",
              "    <tr>\n",
              "      <th>854</th>\n",
              "      <td>2021-10-23 00:00:00</td>\n",
              "      <td>60687.64062</td>\n",
              "      <td>60761.42969</td>\n",
              "      <td>60561.12109</td>\n",
              "      <td>60576.00000</td>\n",
              "    </tr>\n",
              "  </tbody>\n",
              "</table>\n",
              "<p>855 rows × 5 columns</p>\n",
              "</div>\n",
              "      <button class=\"colab-df-convert\" onclick=\"convertToInteractive('df-f66b1dd4-bf00-44e9-ab8d-58206ad8117b')\"\n",
              "              title=\"Convert this dataframe to an interactive table.\"\n",
              "              style=\"display:none;\">\n",
              "        \n",
              "  <svg xmlns=\"http://www.w3.org/2000/svg\" height=\"24px\"viewBox=\"0 0 24 24\"\n",
              "       width=\"24px\">\n",
              "    <path d=\"M0 0h24v24H0V0z\" fill=\"none\"/>\n",
              "    <path d=\"M18.56 5.44l.94 2.06.94-2.06 2.06-.94-2.06-.94-.94-2.06-.94 2.06-2.06.94zm-11 1L8.5 8.5l.94-2.06 2.06-.94-2.06-.94L8.5 2.5l-.94 2.06-2.06.94zm10 10l.94 2.06.94-2.06 2.06-.94-2.06-.94-.94-2.06-.94 2.06-2.06.94z\"/><path d=\"M17.41 7.96l-1.37-1.37c-.4-.4-.92-.59-1.43-.59-.52 0-1.04.2-1.43.59L10.3 9.45l-7.72 7.72c-.78.78-.78 2.05 0 2.83L4 21.41c.39.39.9.59 1.41.59.51 0 1.02-.2 1.41-.59l7.78-7.78 2.81-2.81c.8-.78.8-2.07 0-2.86zM5.41 20L4 18.59l7.72-7.72 1.47 1.35L5.41 20z\"/>\n",
              "  </svg>\n",
              "      </button>\n",
              "      \n",
              "  <style>\n",
              "    .colab-df-container {\n",
              "      display:flex;\n",
              "      flex-wrap:wrap;\n",
              "      gap: 12px;\n",
              "    }\n",
              "\n",
              "    .colab-df-convert {\n",
              "      background-color: #E8F0FE;\n",
              "      border: none;\n",
              "      border-radius: 50%;\n",
              "      cursor: pointer;\n",
              "      display: none;\n",
              "      fill: #1967D2;\n",
              "      height: 32px;\n",
              "      padding: 0 0 0 0;\n",
              "      width: 32px;\n",
              "    }\n",
              "\n",
              "    .colab-df-convert:hover {\n",
              "      background-color: #E2EBFA;\n",
              "      box-shadow: 0px 1px 2px rgba(60, 64, 67, 0.3), 0px 1px 3px 1px rgba(60, 64, 67, 0.15);\n",
              "      fill: #174EA6;\n",
              "    }\n",
              "\n",
              "    [theme=dark] .colab-df-convert {\n",
              "      background-color: #3B4455;\n",
              "      fill: #D2E3FC;\n",
              "    }\n",
              "\n",
              "    [theme=dark] .colab-df-convert:hover {\n",
              "      background-color: #434B5C;\n",
              "      box-shadow: 0px 1px 3px 1px rgba(0, 0, 0, 0.15);\n",
              "      filter: drop-shadow(0px 1px 2px rgba(0, 0, 0, 0.3));\n",
              "      fill: #FFFFFF;\n",
              "    }\n",
              "  </style>\n",
              "\n",
              "      <script>\n",
              "        const buttonEl =\n",
              "          document.querySelector('#df-f66b1dd4-bf00-44e9-ab8d-58206ad8117b button.colab-df-convert');\n",
              "        buttonEl.style.display =\n",
              "          google.colab.kernel.accessAllowed ? 'block' : 'none';\n",
              "\n",
              "        async function convertToInteractive(key) {\n",
              "          const element = document.querySelector('#df-f66b1dd4-bf00-44e9-ab8d-58206ad8117b');\n",
              "          const dataTable =\n",
              "            await google.colab.kernel.invokeFunction('convertToInteractive',\n",
              "                                                     [key], {});\n",
              "          if (!dataTable) return;\n",
              "\n",
              "          const docLinkHtml = 'Like what you see? Visit the ' +\n",
              "            '<a target=\"_blank\" href=https://colab.research.google.com/notebooks/data_table.ipynb>data table notebook</a>'\n",
              "            + ' to learn more about interactive tables.';\n",
              "          element.innerHTML = '';\n",
              "          dataTable['output_type'] = 'display_data';\n",
              "          await google.colab.output.renderOutput(dataTable, element);\n",
              "          const docLink = document.createElement('div');\n",
              "          docLink.innerHTML = docLinkHtml;\n",
              "          element.appendChild(docLink);\n",
              "        }\n",
              "      </script>\n",
              "    </div>\n",
              "  </div>\n",
              "  "
            ]
          },
          "metadata": {},
          "execution_count": 56
        }
      ]
    },
    {
      "cell_type": "code",
      "metadata": {
        "id": "M3zqxU3AO-pQ"
      },
      "source": [
        "bitcoin_prices = pd.to_numeric(test_data_final['close'], errors = 'coerce').values\n",
        "# bitcoin_prices"
      ],
      "execution_count": null,
      "outputs": []
    },
    {
      "cell_type": "code",
      "source": [
        "test_inputs = test_data_final['close'].values\n",
        "test_inputs = test_inputs.reshape(-1,1)\n",
        "model_inputs = scaler.fit_transform(test_inputs)"
      ],
      "metadata": {
        "id": "gWqm-vKcPzax"
      },
      "execution_count": null,
      "outputs": []
    },
    {
      "cell_type": "code",
      "metadata": {
        "id": "0c-BWA8kPJNR"
      },
      "source": [
        "x_test = []\n",
        "\n",
        "for x in range(time_intervals_to_train, len(model_inputs)):\n",
        "  x_test.append(model_inputs[x - time_intervals_to_train:x, 0])\n",
        "\n",
        "x_test = np.array(x_test)\n",
        "x_test = np.reshape(x_test, (x_test.shape[0], x_test.shape[1], 1))"
      ],
      "execution_count": null,
      "outputs": []
    },
    {
      "cell_type": "code",
      "metadata": {
        "id": "voEJyW7kQDiP"
      },
      "source": [
        "prediction_prices = model.predict(x_test)\n",
        "prediction_prices = scaler.inverse_transform(prediction_prices)"
      ],
      "execution_count": null,
      "outputs": []
    },
    {
      "cell_type": "code",
      "metadata": {
        "colab": {
          "base_uri": "https://localhost:8080/",
          "height": 567
        },
        "id": "D0aVC6IsQtCx",
        "outputId": "903c8d98-6244-40eb-992e-211306203ade"
      },
      "source": [
        "plt.figure(figsize=(15,9))\n",
        "plt.plot(bitcoin_prices, label = 'Bitcoin Prices')\n",
        "plt.plot(prediction_prices, label = 'Predicted Prices')\n",
        "plt.title('Predicting Bitcoin Price between '+test_start+' and '+test_end)\n",
        "plt.xlabel('5min Time interval')\n",
        "plt.ylabel('Price')\n",
        "plt.legend()\n",
        "plt.show()"
      ],
      "execution_count": null,
      "outputs": [
        {
          "output_type": "display_data",
          "data": {
            "text/plain": [
              "<Figure size 1080x648 with 1 Axes>"
            ],
            "image/png": "[encoded data removed]"
          },
          "metadata": {
            "needs_background": "light"
          }
        }
      ]
    },
    {
      "cell_type": "code",
      "metadata": {
        "id": "H2WaS8-1RAXL"
      },
      "source": [
        "last_data = model_inputs[len(model_inputs) - time_intervals_to_train : len(model_inputs), 0]\n",
        "last_data = np.array(last_data)"
      ],
      "execution_count": null,
      "outputs": []
    },
    {
      "cell_type": "code",
      "metadata": {
        "colab": {
          "base_uri": "https://localhost:8080/"
        },
        "id": "h_WlZx9fS2mI",
        "outputId": "f92c343f-c99a-4b6c-f700-5077b54fbe50"
      },
      "source": [
        "last_data.shape"
      ],
      "execution_count": null,
      "outputs": [
        {
          "output_type": "execute_result",
          "data": {
            "text/plain": [
              "(24,)"
            ]
          },
          "metadata": {},
          "execution_count": 63
        }
      ]
    },
    {
      "cell_type": "code",
      "metadata": {
        "id": "P4uyoccWSovK"
      },
      "source": [
        "last_data = np.reshape(last_data, (1, last_data.shape[0], 1))"
      ],
      "execution_count": null,
      "outputs": []
    },
    {
      "cell_type": "code",
      "metadata": {
        "id": "_pFv2w1XS8My"
      },
      "source": [
        "prediction = model.predict(last_data)"
      ],
      "execution_count": null,
      "outputs": []
    },
    {
      "cell_type": "code",
      "metadata": {
        "id": "300ol50STAYj"
      },
      "source": [
        "prediction = scaler.inverse_transform(prediction)"
      ],
      "execution_count": null,
      "outputs": []
    },
    {
      "cell_type": "code",
      "metadata": {
        "id": "h4hQZ2l_TBWA",
        "colab": {
          "base_uri": "https://localhost:8080/"
        },
        "outputId": "e34b335f-d281-4f7f-9491-1690be629242"
      },
      "source": [
        "prediction"
      ],
      "execution_count": null,
      "outputs": [
        {
          "output_type": "execute_result",
          "data": {
            "text/plain": [
              "array([[60464.418]], dtype=float32)"
            ]
          },
          "metadata": {},
          "execution_count": 67
        }
      ]
    },
    {
      "cell_type": "code",
      "source": [
        "print(prediction[0])"
      ],
      "metadata": {
        "colab": {
          "base_uri": "https://localhost:8080/"
        },
        "id": "NGrt8xbtVtUx",
        "outputId": "c40a6956-8862-4fde-d512-455f6e551974"
      },
      "execution_count": null,
      "outputs": [
        {
          "output_type": "stream",
          "name": "stdout",
          "text": [
            "[60464.418]\n"
          ]
        }
      ]
    }
  ]
}